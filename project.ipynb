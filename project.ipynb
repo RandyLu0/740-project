{
 "cells": [
  {
   "cell_type": "code",
   "execution_count": 1,
   "metadata": {},
   "outputs": [],
   "source": [
    "# imports \n",
    "\n",
    "import numpy as np\n",
    "import heapq\n",
    "import math\n",
    "import scipy as sp\n",
    "from matplotlib import pyplot"
   ]
  },
  {
   "cell_type": "code",
   "execution_count": 8,
   "metadata": {},
   "outputs": [],
   "source": [
    "# m         : the number of floors in the building\n",
    "# n         : the number of elevators \n",
    "# lambdas   : m * m array; i,j is the rate of arrivals on floor i who want to go to floor j\n",
    "# schedule  : a scheduling algorithm for the elevators\n",
    "# occupancy : max occupancy of an elevator\n",
    "# h         : length of simulation\n",
    "\n",
    "# Simulation Design\n",
    "\n",
    "# Elevators start at ground\n",
    "# if button pressed, schedule should decide which elevator goes ans what happens in general\n",
    "# interrupt based system\n",
    "\n",
    "# Initialize clocks with button presses \n",
    "\n",
    "# down  : tuple where index j is rates of clients of floor j going down\n",
    "# total : tuple where index j is sum of all rates\n",
    "\n",
    "# How do we handle button presses?\n",
    "# clock for each button press on each floor\n",
    "# each \"clock\" has up and down component\n",
    "\n",
    "# Assuming that button is pressed up/down and then later the corresponding one is also pressed\n",
    "\n",
    "# elevators: list of elevator structures\n",
    "\n",
    "# elevator structure: clients    : list where index j is amount of people want to go to floor j\n",
    "#                     next floor : next floor it goes to\n",
    "#                     floor      : the current floor\n",
    "\n",
    "# floors: list of floor structures\n",
    "\n",
    "# floor structure: queue  : where index j is amount of people want to go to floor j,\n",
    "#                  size   : amount of people on the floor\n",
    "#                  button : 1/-1 to indicate up/down, 0 and size != 0 for both and size == 0 for none\n",
    "\n",
    "# NOTE: floors are labeled 0 ... m - 1\n",
    "\n",
    "def sim(m: int, n: int, lambdas: tuple[tuple[float]], schedule, occupancy: int, h: int):\n",
    "    rng = np.random.default_rng() # rv generator\n",
    "    floors = list( [np.zeros(m), 0, 0] for _ in range(m) )\n",
    "    elevators = list( [np.zeros(m), 0, 0] for _ in range(n) )\n",
    "    down = tuple( sum(lambdas[j][:j]) for j in range(m) )\n",
    "    total = tuple( sum(lambdas[j]) for j in range(m) )\n",
    "    clocks = []\n",
    "    for i in range(m):\n",
    "        pair = [[rng.exponential(1/total[i])]]\n",
    "        # next even is a down action\n",
    "        if rng.uniform(0, 1) <= down[i] / total[i]:\n",
    "            pair[0].append(-1)\n",
    "            pair.append(rng.exponential(1/down[i]) + pair[0])\n",
    "        else:\n",
    "            pair[0].append(1)\n",
    "            pair.append(rng.exponential(1/(total[i] - down[i])) + pair[0])\n",
    "        clocks.append(pair)\n",
    "    heapq.heapify(clocks)\n",
    "    t = 0           # total elapsed time\n",
    "\n",
    "    while(t <= h):\n",
    "\n",
    "\n",
    "    return floors\n",
    "\n"
   ]
  },
  {
   "cell_type": "code",
   "execution_count": 6,
   "metadata": {},
   "outputs": [
    {
     "data": {
      "text/plain": [
       "[(0, 9), (5, 15)]"
      ]
     },
     "execution_count": 6,
     "metadata": {},
     "output_type": "execute_result"
    }
   ],
   "source": [
    "lambdas = [[0,2,3,4], [5,0,7,8]]\n",
    "down_up = list( (sum(lambdas[j][:j]), sum(lambdas[j]) - sum(lambdas[j][:j])) for j in range(2) )\n",
    "down_up\n"
   ]
  }
 ],
 "metadata": {
  "kernelspec": {
   "display_name": "base",
   "language": "python",
   "name": "python3"
  },
  "language_info": {
   "codemirror_mode": {
    "name": "ipython",
    "version": 3
   },
   "file_extension": ".py",
   "mimetype": "text/x-python",
   "name": "python",
   "nbconvert_exporter": "python",
   "pygments_lexer": "ipython3",
   "version": "3.10.13"
  }
 },
 "nbformat": 4,
 "nbformat_minor": 2
}
